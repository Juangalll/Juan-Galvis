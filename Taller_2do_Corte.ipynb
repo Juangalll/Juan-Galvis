{
  "nbformat": 4,
  "nbformat_minor": 0,
  "metadata": {
    "colab": {
      "provenance": [],
      "authorship_tag": "ABX9TyOvUokDmuskSADo2d+k6nqt",
      "include_colab_link": true
    },
    "kernelspec": {
      "name": "python3",
      "display_name": "Python 3"
    },
    "language_info": {
      "name": "python"
    }
  },
  "cells": [
    {
      "cell_type": "markdown",
      "metadata": {
        "id": "view-in-github",
        "colab_type": "text"
      },
      "source": [
        "<a href=\"https://colab.research.google.com/github/Juangalll/Juan-Galvis/blob/main/Taller_2do_Corte.ipynb\" target=\"_parent\"><img src=\"https://colab.research.google.com/assets/colab-badge.svg\" alt=\"Open In Colab\"/></a>"
      ]
    },
    {
      "cell_type": "markdown",
      "source": [
        "# **Exercise**\n",
        "\n",
        "**Roulette!**\n",
        "\n",
        "Let's simulate a casino game.\n",
        "Specifically, a single-zero (french) roulette.\n",
        "\n",
        "This game consists on rolling a ball over a wheel with number pockets.\n",
        "\n",
        "[Game](https://image.shutterstock.com/image-illustration/casino-roulette-wheel-chips-on-600w-1288790665.jpg)\n",
        "\n",
        "There are several ways to bet on this game, you have to code a few."
      ],
      "metadata": {
        "id": "2kRoSKUmaGl9"
      }
    },
    {
      "cell_type": "code",
      "source": [
        "import numpy as np"
      ],
      "metadata": {
        "id": "VvT8sLDt7A9L"
      },
      "execution_count": 2,
      "outputs": []
    },
    {
      "cell_type": "markdown",
      "source": [
        "## Ex 1 - Number Bet\n",
        "\n",
        "\n"
      ],
      "metadata": {
        "id": "PYIRNu3imJ_n"
      }
    },
    {
      "cell_type": "code",
      "execution_count": 3,
      "metadata": {
        "id": "9TaC9734lQMI",
        "colab": {
          "base_uri": "https://localhost:8080/"
        },
        "outputId": "1aff13ae-f87b-43c1-9121-33be77307f1e"
      },
      "outputs": [
        {
          "output_type": "stream",
          "name": "stdout",
          "text": [
            "Place your bet (0-36): 6\n",
            "The result is: 21\n",
            "Sorry, you lost.\n"
          ]
        }
      ],
      "source": [
        "# Answ. Ex 1\n",
        "\n",
        "\n",
        "# Get the user's bet\n",
        "bet = int(input(\"Place your bet (0-36): \"))\n",
        "\n",
        "# Simulate\n",
        "result = np.random.randint(0, 37)  # Generates a random number between 0 and 36\n",
        "\n",
        "# Won / Lost\n",
        "if bet == result:\n",
        "    print(\"The result is:\", result)\n",
        "    print(\"Congratulations! You won!\")\n",
        "else:\n",
        "    print(\"The result is:\", result)\n",
        "    print(\"Sorry, you lost.\")\n"
      ]
    },
    {
      "cell_type": "markdown",
      "source": [
        "## Ex 2 - Color Bet\n"
      ],
      "metadata": {
        "id": "LAdWe8iEaL7B"
      }
    },
    {
      "cell_type": "code",
      "source": [
        "# Answ. Ex 2\n",
        "\n",
        "# Get the user's bet\n",
        "bet_color = input(\"Place your bet (black or red): \").lower()\n",
        "\n",
        "# Simulate\n",
        "result_number = np.random.randint(0, 37)\n",
        "\n",
        "# Determine the color of the result\n",
        "if result_number == 0:\n",
        "    result_color = \"green\"\n",
        "elif result_number % 2 == 0:\n",
        "    result_color = \"black\"\n",
        "else:\n",
        "    result_color = \"red\"\n",
        "\n",
        "# Win / Lost\n",
        "if bet_color == result_color:\n",
        "    print(\"The result is:\", result_color)\n",
        "    print(\"Congratulations! You won!\")\n",
        "else:\n",
        "    print(\"The result is:\", result_color)\n",
        "    print(\"Sorry, you lost.\")"
      ],
      "metadata": {
        "colab": {
          "base_uri": "https://localhost:8080/"
        },
        "id": "fpt3qpd-76K-",
        "outputId": "f02e2f02-73b0-4523-e2e2-129884297a50"
      },
      "execution_count": 8,
      "outputs": [
        {
          "output_type": "stream",
          "name": "stdout",
          "text": [
            "Place your bet (black or red): black\n",
            "The result is: red\n",
            "Sorry, you lost.\n"
          ]
        }
      ]
    },
    {
      "cell_type": "markdown",
      "source": [
        "## Ex 3 - Dozens Bet\n",
        "\n"
      ],
      "metadata": {
        "id": "YFsGiwcNfgzP"
      }
    },
    {
      "cell_type": "code",
      "source": [
        "# Answ. Ex 3\n",
        "# Get the user's bet\n",
        "bet_dozen = input(\"Place your bet (A, B, or C): \").upper()\n",
        "\n",
        "# Simulate\n",
        "result_number = np.random.randint(0, 37)\n",
        "\n",
        "# Determine the dozen of the result\n",
        "if 1 <= result_number <= 12:\n",
        "    result_dozen = \"A\"\n",
        "elif 13 <= result_number <= 24:\n",
        "    result_dozen = \"B\"\n",
        "elif 25 <= result_number <= 36:\n",
        "    result_dozen = \"C\"\n",
        "else:\n",
        "    result_dozen = \"None\"  # For 0\n",
        "\n",
        "# Win / Lost\n",
        "if bet_dozen == result_dozen:\n",
        "    print(\"The result is:\", result_number, \"(\", result_dozen, \")\")\n",
        "    print(\"Congratulations! You won!\")\n",
        "else:\n",
        "    print(\"The result is:\", result_number, \"(\", result_dozen, \")\")\n",
        "    print(\"Sorry, you lost.\")\n"
      ],
      "metadata": {
        "colab": {
          "base_uri": "https://localhost:8080/"
        },
        "id": "cXQVkZmP9mm5",
        "outputId": "3b19e2ee-7622-4d3f-faf8-56cd615ac5c3"
      },
      "execution_count": 9,
      "outputs": [
        {
          "output_type": "stream",
          "name": "stdout",
          "text": [
            "Place your bet (A, B, or C): A\n",
            "The result is: 19 ( B )\n",
            "Sorry, you lost.\n"
          ]
        }
      ]
    },
    {
      "cell_type": "markdown",
      "source": [
        "\n",
        "## Ex 4 - Putting everything together\n"
      ],
      "metadata": {
        "id": "RSyiV1UPlVcJ"
      }
    },
    {
      "cell_type": "code",
      "source": [
        "\n",
        "# Answ. Ex 4\n",
        "# Get user bets\n",
        "bet_number = input(\"Enter your number bet (0-36, or 'None'): \")\n",
        "bet_color = input(\"Enter your color bet (black, red, or 'None'): \").lower()\n",
        "bet_dozen = input(\"Enter your dozen bet (A, B, C, or 'None'): \").upper()\n",
        "\n",
        "# Simulate\n",
        "result_number = np.random.randint(0, 37)\n",
        "\n",
        "# Determine result color and dozen\n",
        "if result_number == 0:\n",
        "    result_color = \"green\"\n",
        "    result_dozen = \"None\"\n",
        "elif result_number % 2 == 0:\n",
        "    result_color = \"black\"\n",
        "    result_dozen = \"A\" if 1 <= result_number <= 12 else (\"B\" if 13 <= result_number <= 24 else \"C\")\n",
        "else:\n",
        "    result_color = \"red\"\n",
        "    result_dozen = \"A\" if 1 <= result_number <= 12 else (\"B\" if 13 <= result_number <= 24 else \"C\")\n",
        "\n",
        "# Win / Lost\n",
        "number_win = bet_number == str(result_number)\n",
        "color_win = bet_color == result_color\n",
        "dozen_win = bet_dozen == result_dozen\n",
        "\n",
        "# Print results\n",
        "print(\"Result:\", result_number, \"(\", result_color, \",\", result_dozen, \")\")\n",
        "\n",
        "if number_win or color_win or dozen_win:\n",
        "    print(\"Congratulations! You won on:\")\n",
        "    if number_win:\n",
        "        print(\"- Number bet\")\n",
        "    if color_win:\n",
        "        print(\"- Color bet\")\n",
        "    if dozen_win:\n",
        "        print(\"- Dozen bet\")\n",
        "else:\n",
        "    print(\"Sorry, you lost on all bets.\")"
      ],
      "metadata": {
        "colab": {
          "base_uri": "https://localhost:8080/"
        },
        "id": "K5iv7RkZ-y61",
        "outputId": "3041f876-2ac5-447a-9654-0bf23b37f847"
      },
      "execution_count": 10,
      "outputs": [
        {
          "output_type": "stream",
          "name": "stdout",
          "text": [
            "Enter your number bet (0-36, or 'None'): 5\n",
            "Enter your color bet (black, red, or 'None'): \n",
            "Enter your dozen bet (A, B, C, or 'None'): \n",
            "Result: 10 ( black , A )\n",
            "Sorry, you lost on all bets.\n"
          ]
        }
      ]
    }
  ]
}